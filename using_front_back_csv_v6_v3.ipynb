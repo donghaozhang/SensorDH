{
 "cells": [
  {
   "cell_type": "code",
   "execution_count": 1,
   "metadata": {},
   "outputs": [],
   "source": [
    "import os\n",
    "import pandas as pd\n",
    "from collections import defaultdict\n",
    "from functools import partial\n",
    "from multiprocessing import cpu_count\n",
    "from pathlib import Path\n",
    "from textwrap import dedent\n",
    "import matplotlib.pyplot as plt\n",
    "import numpy as np\n",
    "import pandas as pd\n",
    "import joblib\n",
    "from sklearn.model_selection import train_test_split\n",
    "from sklearn.preprocessing import LabelEncoder, StandardScaler\n",
    "import torch\n",
    "from torch import nn\n",
    "from torch import optim\n",
    "from torch.nn import functional as F\n",
    "from torch.optim.lr_scheduler import _LRScheduler\n",
    "from torch.utils.data import TensorDataset, DataLoader\n",
    "from torch.utils.data.dataset import Dataset\n",
    "import torch as tf\n",
    "from collections import Counter"
   ]
  },
  {
   "cell_type": "code",
   "execution_count": 2,
   "metadata": {},
   "outputs": [],
   "source": [
    "def compute_label(input_front, input_back, convert_dict):\n",
    "    if input_front['write'] > 0.9:\n",
    "        out_label = convert_dict['write']\n",
    "    elif input_front['talk'] > 0.9:\n",
    "        out_label = convert_dict['talk']\n",
    "    elif input_front['read'] > 0.5:\n",
    "        out_label = convert_dict['read']\n",
    "    elif input_front['drink'] > 0.9:\n",
    "        out_label = convert_dict['drink']\n",
    "    elif input_front['eat'] > 0.4:\n",
    "        out_label = convert_dict['eat']\n",
    "    elif input_back['computer'] > 0.6:\n",
    "        out_label = convert_dict['computer']\n",
    "    else:\n",
    "        out_label = 6\n",
    "    return out_label"
   ]
  },
  {
   "cell_type": "code",
   "execution_count": 3,
   "metadata": {},
   "outputs": [],
   "source": [
    "def load_sensor_data_without_h(fname):\n",
    "    sensor_txt = np.genfromtxt(fname, delimiter=',', dtype=None, encoding=None)\n",
    "    # a 2-4 w(augular velocity) 6-8 Angle 10-12 h 14-16 q(quaternion) 18-21\n",
    "    # a 0-2 w 3-5 Angle 6-8 q 9 10 11 12\n",
    "    row_len = 3*3 + 4\n",
    "    data_length = len(sensor_txt)\n",
    "    sensor_array = np.zeros((data_length, row_len))\n",
    "    for row_i, sensor_row in enumerate(sensor_txt):\n",
    "        # a 2-4\n",
    "        sensor_array[row_i, 0] = sensor_row[2]\n",
    "        sensor_array[row_i, 1] = sensor_row[3]\n",
    "        sensor_array[row_i, 2] = sensor_row[4]\n",
    "        # w 6-8\n",
    "        sensor_array[row_i, 3] = sensor_row[6]\n",
    "        sensor_array[row_i, 4] = sensor_row[7]\n",
    "        sensor_array[row_i, 5] = sensor_row[8]\n",
    "        # Angle 10-12\n",
    "        sensor_array[row_i, 6] = sensor_row[10]\n",
    "        sensor_array[row_i, 7] = sensor_row[11]\n",
    "        sensor_array[row_i, 8] = sensor_row[12]\n",
    "        # q 18-21\n",
    "        sensor_array[row_i, 9] = sensor_row[18]\n",
    "        sensor_array[row_i, 10] = sensor_row[19]\n",
    "        sensor_array[row_i, 11] = sensor_row[20]\n",
    "        sensor_array[row_i, 12] = sensor_row[21]\n",
    "    return sensor_array\n",
    "def sample_sensor_data(input_data, window_sz = 128, sample_sz = 128):\n",
    "    sensor_length = input_data.shape[0]\n",
    "    print('The shape of sensor input data', input_data.shape)\n",
    "    feature_sz = input_data.shape[1]\n",
    "    data_sz = 0\n",
    "    print('the length of sensor', sensor_length)\n",
    "    for i in range(0, sensor_length-window_sz-sample_sz, sample_sz):\n",
    "        data_sz = data_sz + 1\n",
    "    all_sensor_data = np.zeros((data_sz, feature_sz, window_sz))\n",
    "    cnt = 0\n",
    "    for i in range(0, sensor_length-window_sz-sample_sz, sample_sz):\n",
    "        sample = input_data[i:i + window_sz, :]\n",
    "        sample = np.transpose(sample)\n",
    "        all_sensor_data[cnt, :, :] = sample\n",
    "        cnt = cnt + 1\n",
    "    print('the shape of sensor dataset', all_sensor_data.shape)\n",
    "    return all_sensor_data "
   ]
  },
  {
   "cell_type": "code",
   "execution_count": 4,
   "metadata": {},
   "outputs": [],
   "source": [
    "class _SepConv1d(nn.Module):\n",
    "    \"\"\"A simple separable convolution implementation.\n",
    "\n",
    "    The separable convlution is a method to reduce number of the parameters\n",
    "    in the deep learning network for slight decrease in predictions quality.\n",
    "    \"\"\"\n",
    "\n",
    "    def __init__(self, ni, no, kernel, stride, pad):\n",
    "        super().__init__()\n",
    "        self.depthwise = nn.Conv1d(ni, ni, kernel, stride, padding=pad, groups=ni)\n",
    "        self.pointwise = nn.Conv1d(ni, no, kernel_size=1)\n",
    "\n",
    "    def forward(self, x):\n",
    "        return self.pointwise(self.depthwise(x))\n",
    "\n",
    "\n",
    "class SepConv1d(nn.Module):\n",
    "    \"\"\"Implementes a 1-d convolution with 'batteries included'.\n",
    "\n",
    "    The module adds (optionally) activation function and dropout layers right after\n",
    "    a separable convolution layer.\n",
    "    \"\"\"\n",
    "\n",
    "    def __init__(self, ni, no, kernel, stride, pad, drop=None,\n",
    "                 activ=lambda: nn.ReLU(inplace=True)):\n",
    "\n",
    "        super().__init__()\n",
    "        assert drop is None or (0.0 < drop < 1.0)\n",
    "        layers = [_SepConv1d(ni, no, kernel, stride, pad)]\n",
    "        if activ:\n",
    "            layers.append(activ())\n",
    "        if drop is not None:\n",
    "            layers.append(nn.Dropout(drop))\n",
    "        self.layers = nn.Sequential(*layers)\n",
    "\n",
    "    def forward(self, x):\n",
    "        return self.layers(x)\n",
    "\n",
    "\n",
    "class Flatten(nn.Module):\n",
    "    \"\"\"Converts N-dimensional tensor into 'flat' one.\"\"\"\n",
    "\n",
    "    def __init__(self, keep_batch_dim=True):\n",
    "        super().__init__()\n",
    "        self.keep_batch_dim = keep_batch_dim\n",
    "\n",
    "    def forward(self, x):\n",
    "        if self.keep_batch_dim:\n",
    "            return x.view(x.size(0), -1)\n",
    "        return x.view(-1)\n",
    "\n",
    "\n",
    "class Classifier_dh(nn.Module):\n",
    "    def __init__(self, raw_ni, raw_sz, no, drop=0.05):\n",
    "        super().__init__()\n",
    "        self.conv1 = SepConv1d(raw_ni, 32, 8, 2, 3, drop=drop)\n",
    "        self.conv2 = SepConv1d(32, 64, 8, 4, 2, drop=drop)\n",
    "        self.conv3 = SepConv1d(64, 128, 8, 4, 2, drop=drop)\n",
    "        self.conv4 = SepConv1d(128, 256, 8, 4, 2)\n",
    "        self.flatten = Flatten()\n",
    "        self.fc1 = nn.Sequential(nn.Dropout(drop), nn.Linear(raw_sz*2, 64), nn.ReLU(inplace=True))\n",
    "        self.fc2 = nn.Sequential(nn.Dropout(drop), nn.Linear(64, 64), nn.ReLU(inplace=True))\n",
    "        self.out = nn.Sequential(\n",
    "            nn.Linear(64, 64), nn.ReLU(inplace=True), nn.Linear(64, no))\n",
    "\n",
    "    def forward(self, t_raw):\n",
    "#         print('input size', t_raw.size())\n",
    "        x = self.conv1(t_raw)\n",
    "#         print('conv1', x.size())\n",
    "        x = self.conv2(x)\n",
    "#         print('conv2', x.size())\n",
    "        x = self.conv3(x)\n",
    "#         print('conv3', x.size())\n",
    "        x = self.conv4(x)\n",
    "#         print('conv4', x.size())\n",
    "        x = self.flatten(x)\n",
    "#         print('flatten', x.size())\n",
    "        x = self.fc1(x)\n",
    "#         print('fc1', x.size())\n",
    "        x = self.fc2(x)\n",
    "#         print('fc2', x.size())\n",
    "        x = self.out(x)\n",
    "        return x"
   ]
  },
  {
   "cell_type": "code",
   "execution_count": 5,
   "metadata": {},
   "outputs": [],
   "source": [
    "# Program to find most frequent  \n",
    "# element in a list \n",
    "from collections import Counter \n",
    "def most_frequent(List): \n",
    "    occurence_count = Counter(List) \n",
    "    return occurence_count.most_common(1)[0][0] "
   ]
  },
  {
   "cell_type": "code",
   "execution_count": 6,
   "metadata": {},
   "outputs": [],
   "source": [
    "dirpath = \"C:\\\\Users\\\\zhjsc\\\\Desktop\\\\zongyuan\\\\sensor\\\\repos\\\\time_series_network\\\\sensor_data_v6\\\\\"\n",
    "frontpath = dirpath + \"front_angle_7action.csv\"\n",
    "front_csv = pd.read_csv(frontpath)\n",
    "backpath = dirpath + \"back_angle_7action.csv\"\n",
    "back_csv = pd.read_csv(backpath)"
   ]
  },
  {
   "cell_type": "code",
   "execution_count": 7,
   "metadata": {},
   "outputs": [
    {
     "name": "stdout",
     "output_type": "stream",
     "text": [
      "42990\n"
     ]
    }
   ],
   "source": [
    "front_shape = front_csv.shape\n",
    "txt_to_label = {'talk':0, 'eat':1, 'read':2, 'drink':3, 'computer':4, 'write':5, 'other': 6}\n",
    "label_array = []\n",
    "for i in range(front_shape[0]):\n",
    "    front_row = front_csv.iloc[i]\n",
    "    back_row = back_csv.iloc[i]\n",
    "    label = compute_label(input_front=front_row, input_back=back_row, convert_dict=txt_to_label)\n",
    "    label_array.append(label)\n",
    "print(len(label_array))"
   ]
  },
  {
   "cell_type": "code",
   "execution_count": 8,
   "metadata": {},
   "outputs": [
    {
     "name": "stdout",
     "output_type": "stream",
     "text": [
      "The shape of sensor input data (74298, 13)\n",
      "the length of sensor 74298\n",
      "the shape of sensor dataset (579, 13, 128)\n"
     ]
    }
   ],
   "source": [
    "head_sensor = load_sensor_data_without_h(fname='sensor_data_v6\\WT01—head.txt')\n",
    "head_sensor_data = sample_sensor_data(head_sensor)"
   ]
  },
  {
   "cell_type": "code",
   "execution_count": 9,
   "metadata": {},
   "outputs": [],
   "source": [
    "# Generate labels for the training dataset\n",
    "sensor_length = head_sensor.shape[0]\n",
    "window_sz = 128\n",
    "sample_sz = 128\n",
    "# label = pd.read_csv('video_20200917.csv', index_col=0)\n",
    "label_array = np.asarray(label_array)\n",
    "def sensor_to_slowfast(sensor_index, sensor_data, label_data):\n",
    "    slowfast_index = int(sensor_index  / sensor_data.shape[0] * label_data.shape[0])\n",
    "    return slowfast_index\n",
    "all_label = np.zeros((head_sensor_data.shape[0], 1)) \n",
    "cnt = 0\n",
    "\n",
    "for i in range(0, sensor_length-window_sz-sample_sz, sample_sz):\n",
    "    start = sensor_to_slowfast(sensor_index=i, sensor_data = head_sensor, label_data=label_array)\n",
    "    end = sensor_to_slowfast(sensor_index=i+window_sz, sensor_data = head_sensor, label_data=label_array)\n",
    "    cur_label_array = label_array[start:end]\n",
    "    all_label[cnt] = most_frequent(cur_label_array)\n",
    "    cnt = cnt + 1\n",
    "bs = 4\n",
    "sz = all_label.shape[0]\n",
    "trn_ds = TensorDataset(torch.tensor(head_sensor_data).float(), torch.tensor(all_label).long())\n",
    "trn_dl = DataLoader(trn_ds, batch_size=bs, shuffle=True, num_workers=0)"
   ]
  },
  {
   "cell_type": "code",
   "execution_count": 10,
   "metadata": {
    "scrolled": true
   },
   "outputs": [
    {
     "name": "stdout",
     "output_type": "stream",
     "text": [
      "The shape of sensor input data (14682, 13)\n",
      "the length of sensor 14682\n",
      "the shape of sensor dataset (113, 13, 128)\n"
     ]
    }
   ],
   "source": [
    "# build the validation dataset\n",
    "val_head_sensor = load_sensor_data_without_h(fname='sensor_data_v3\\head_20200917.txt')\n",
    "val_head_sensor_data = sample_sensor_data(val_head_sensor)"
   ]
  },
  {
   "cell_type": "code",
   "execution_count": 11,
   "metadata": {},
   "outputs": [],
   "source": [
    "# path of csv file \n",
    "dirpath = \"C:\\\\Users\\\\zhjsc\\\\Desktop\\\\zongyuan\\\\sensor\\\\repos\\\\time_series_network\\\\sensor_data_v3\\\\\"\n",
    "frontpath = dirpath + \"front_angle_7action.csv\"\n",
    "# load csv using pandas \n",
    "val_front_csv = pd.read_csv(frontpath)\n",
    "val_front_shape = val_front_csv.shape\n",
    "txt_to_label = {'talk':0, 'eat':1, 'read':2, 'drink':3, 'computer':4, 'write':5, 'other': 6}\n",
    "val_label_slowfast = []\n",
    "\n",
    "for i in range(val_front_shape[0]):\n",
    "    front_row = val_front_csv.iloc[i]\n",
    "    back_row = front_row.copy()\n",
    "    label = compute_label(input_front=front_row, input_back=back_row, convert_dict=txt_to_label)\n",
    "    val_label_slowfast.append(label)\n",
    "\n",
    "# convert slowfast label to sensor label \n",
    "from collections import Counter\n",
    "val_sensor_length = val_head_sensor.shape[0]\n",
    "val_label = np.zeros((val_head_sensor_data.shape[0], 1))\n",
    "cnt = 0\n",
    "for i in range(0, val_sensor_length-window_sz-sample_sz, sample_sz):\n",
    "    start = sensor_to_slowfast(sensor_index=i, sensor_data = head_sensor, label_data=label_array)\n",
    "    end = sensor_to_slowfast(sensor_index=i+window_sz, sensor_data = head_sensor, label_data=label_array)\n",
    "    cur_label_array = val_label_slowfast[start:end]\n",
    "    val_label[cnt] = most_frequent(cur_label_array)\n",
    "    cnt = cnt + 1"
   ]
  },
  {
   "cell_type": "code",
   "execution_count": 12,
   "metadata": {},
   "outputs": [
    {
     "name": "stdout",
     "output_type": "stream",
     "text": [
      "(113, 13, 128)\n",
      "(113, 1)\n"
     ]
    }
   ],
   "source": [
    "val_label = np.asarray(val_label)\n",
    "val_ds = TensorDataset(torch.tensor(val_head_sensor_data).float(), torch.tensor(val_label).long())\n",
    "val_dl = DataLoader(val_ds, batch_size=bs, shuffle=True, num_workers=0)\n",
    "print(val_head_sensor_data.shape)\n",
    "print(val_label.shape)"
   ]
  },
  {
   "cell_type": "code",
   "execution_count": 13,
   "metadata": {},
   "outputs": [
    {
     "name": "stdout",
     "output_type": "stream",
     "text": [
      "Start model training\n",
      "Epoch:   1. Loss: 1006.3194. Acc.: 48.21%\n",
      "Epoch 1 best model saved with accuracy: 48.21%\n",
      "Epoch:   2. Loss: 949.9478. Acc.: 48.21%\n",
      "Epoch:   4. Loss: 772.9881. Acc.: 16.96%\n",
      "Epoch:   8. Loss: 651.5449. Acc.: 6.25%\n",
      "Epoch:  16. Loss: 537.5355. Acc.: 8.93%\n",
      "Epoch:  32. Loss: 324.9703. Acc.: 1.79%\n",
      "Epoch:  64. Loss: 99.0955. Acc.: 1.79%\n",
      "Epoch: 128. Loss: 66.0448. Acc.: 1.79%\n",
      "Epoch: 256. Loss: 29.7042. Acc.: 1.79%\n"
     ]
    }
   ],
   "source": [
    "lr = 0.001\n",
    "n_epochs = 300\n",
    "iterations_per_epoch = len(trn_ds)\n",
    "num_classes = 7\n",
    "best_acc = 0\n",
    "patience, trials = 500, 0\n",
    "base = 1\n",
    "step = 2\n",
    "loss_history = []\n",
    "acc_history = []\n",
    "device = torch.device('cuda:0' if torch.cuda.is_available() else 'cpu')\n",
    "model = Classifier_dh(head_sensor_data.shape[1], head_sensor_data.shape[2], num_classes).to(device)\n",
    "criterion = nn.CrossEntropyLoss(reduction='sum')\n",
    "opt = optim.Adam(model.parameters(), lr=lr)\n",
    "print('Start model training')\n",
    "\n",
    "for epoch in range(1, n_epochs + 1):\n",
    "    model.train()\n",
    "    epoch_loss = 0\n",
    "    for i, batch in enumerate(trn_dl):\n",
    "        x_raw, y_batch = [t.to(device) for t in batch]\n",
    "        opt.zero_grad()\n",
    "        out = model(x_raw)\n",
    "        y_batch = tf.squeeze(y_batch)\n",
    "#         print(out.size(), y_batch.size())\n",
    "        loss = criterion(out, y_batch)\n",
    "        epoch_loss += loss.item()\n",
    "        loss.backward()\n",
    "        opt.step()\n",
    "\n",
    "    loss_history.append(epoch_loss)\n",
    "    model.eval()\n",
    "    correct, total = 0, 0\n",
    "    for batch in val_dl:\n",
    "        x_raw, y_batch = [t.to(device) for t in batch]\n",
    "        y_batch = tf.squeeze(y_batch)\n",
    "        out = model(x_raw)\n",
    "        preds = F.log_softmax(out, dim=1).argmax(dim=1)\n",
    "        if preds.size()[0] > 1:\n",
    "            total += y_batch.size(0)\n",
    "            correct += (preds == y_batch).sum().item()\n",
    "\n",
    "    acc = correct / total\n",
    "    acc_history.append(acc)\n",
    "    if epoch % base == 0:\n",
    "        print(f'Epoch: {epoch:3d}. Loss: {epoch_loss:.4f}. Acc.: {acc:2.2%}')\n",
    "        base *= step\n",
    "\n",
    "    if acc > best_acc:\n",
    "        trials = 0\n",
    "        best_acc = acc\n",
    "        torch.save(model.state_dict(), 'best.pth')\n",
    "        print(f'Epoch {epoch} best model saved with accuracy: {best_acc:2.2%}')\n",
    "    else:\n",
    "        trials += 1\n",
    "        if trials >= patience:\n",
    "            print(f'Early stopping on epoch {epoch}')\n",
    "            break"
   ]
  },
  {
   "cell_type": "code",
   "execution_count": null,
   "metadata": {},
   "outputs": [],
   "source": []
  }
 ],
 "metadata": {
  "kernelspec": {
   "display_name": "Python 3",
   "language": "python",
   "name": "python3"
  },
  "language_info": {
   "codemirror_mode": {
    "name": "ipython",
    "version": 3
   },
   "file_extension": ".py",
   "mimetype": "text/x-python",
   "name": "python",
   "nbconvert_exporter": "python",
   "pygments_lexer": "ipython3",
   "version": "3.6.10"
  }
 },
 "nbformat": 4,
 "nbformat_minor": 4
}
