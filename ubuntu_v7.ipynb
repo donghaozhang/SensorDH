{
 "cells": [
  {
   "cell_type": "code",
   "execution_count": 1,
   "metadata": {},
   "outputs": [],
   "source": [
    "import os\n",
    "import pandas as pd\n",
    "from collections import defaultdict\n",
    "from functools import partial\n",
    "from multiprocessing import cpu_count\n",
    "from pathlib import Path\n",
    "from textwrap import dedent\n",
    "import matplotlib.pyplot as plt\n",
    "import numpy as np\n",
    "import pandas as pd\n",
    "import joblib\n",
    "from sklearn.model_selection import train_test_split\n",
    "from sklearn.preprocessing import LabelEncoder, StandardScaler\n",
    "import torch\n",
    "from torch import nn\n",
    "from torch import optim\n",
    "from torch.nn import functional as F\n",
    "from torch.optim.lr_scheduler import _LRScheduler\n",
    "from torch.utils.data import TensorDataset, DataLoader\n",
    "from torch.utils.data.dataset import Dataset\n",
    "import torch as tf\n",
    "from collections import Counter"
   ]
  },
  {
   "cell_type": "code",
   "execution_count": 2,
   "metadata": {},
   "outputs": [],
   "source": [
    "def compute_label(input_front, input_back, convert_dict):\n",
    "    if input_front['write'] > 0.9:\n",
    "        out_label = convert_dict['write']\n",
    "    elif input_front['talk'] > 0.97:\n",
    "        out_label = convert_dict['talk']\n",
    "    elif input_front['read'] > 0.5:\n",
    "        out_label = convert_dict['read']\n",
    "    elif input_front['drink'] > 0.9:\n",
    "        out_label = convert_dict['drink']\n",
    "    elif input_front['eat'] > 0.4:\n",
    "        out_label = convert_dict['eat']\n",
    "    elif input_back['computer'] > 0.6:\n",
    "        out_label = convert_dict['computer']\n",
    "    else:\n",
    "        out_label = 6\n",
    "    return out_label"
   ]
  },
  {
   "cell_type": "code",
   "execution_count": 3,
   "metadata": {},
   "outputs": [],
   "source": [
    "def load_sensor_data_without_h(fname):\n",
    "    sensor_txt = np.genfromtxt(fname, delimiter=',', dtype=None, encoding=None)\n",
    "    # a 2-4 w(augular velocity) 6-8 Angle 10-12 h 14-16 q(quaternion) 18-21\n",
    "    # a 0-2 w 3-5 Angle 6-8 q 9 10 11 12\n",
    "    row_len = 3*3 + 4\n",
    "    data_length = len(sensor_txt)\n",
    "    sensor_array = np.zeros((data_length, row_len))\n",
    "    for row_i, sensor_row in enumerate(sensor_txt):\n",
    "        # a 2-4\n",
    "        sensor_array[row_i, 0] = sensor_row[2]\n",
    "        sensor_array[row_i, 1] = sensor_row[3]\n",
    "        sensor_array[row_i, 2] = sensor_row[4]\n",
    "        # w 6-8\n",
    "        sensor_array[row_i, 3] = sensor_row[6]\n",
    "        sensor_array[row_i, 4] = sensor_row[7]\n",
    "        sensor_array[row_i, 5] = sensor_row[8]\n",
    "        # Angle 10-12\n",
    "        sensor_array[row_i, 6] = sensor_row[10]\n",
    "        sensor_array[row_i, 7] = sensor_row[11]\n",
    "        sensor_array[row_i, 8] = sensor_row[12]\n",
    "        # q 18-21\n",
    "        sensor_array[row_i, 9] = sensor_row[18]\n",
    "        sensor_array[row_i, 10] = sensor_row[19]\n",
    "        sensor_array[row_i, 11] = sensor_row[20]\n",
    "        sensor_array[row_i, 12] = sensor_row[21]\n",
    "    return sensor_array\n",
    "def sample_sensor_data(input_data, window_sz = 128, sample_sz = 128):\n",
    "    sensor_length = input_data.shape[0]\n",
    "#     print('The shape of sensor input data', input_data.shape)\n",
    "    feature_sz = input_data.shape[1]\n",
    "    data_sz = 0\n",
    "#     print('the length of sensor', sensor_length)\n",
    "    for i in range(0, sensor_length-window_sz-sample_sz, sample_sz):\n",
    "        data_sz = data_sz + 1\n",
    "    all_sensor_data = np.zeros((data_sz, feature_sz, window_sz))\n",
    "    cnt = 0\n",
    "    for i in range(0, sensor_length-window_sz-sample_sz, sample_sz):\n",
    "        sample = input_data[i:i + window_sz, :]\n",
    "        sample = np.transpose(sample)\n",
    "        all_sensor_data[cnt, :, :] = sample\n",
    "        cnt = cnt + 1\n",
    "#     print('the shape of sensor dataset', all_sensor_data.shape)\n",
    "    return all_sensor_data "
   ]
  },
  {
   "cell_type": "code",
   "execution_count": 4,
   "metadata": {},
   "outputs": [],
   "source": [
    "class _SepConv1d(nn.Module):\n",
    "    \"\"\"A simple separable convolution implementation.\n",
    "\n",
    "    The separable convlution is a method to reduce number of the parameters\n",
    "    in the deep learning network for slight decrease in predictions quality.\n",
    "    \"\"\"\n",
    "\n",
    "    def __init__(self, ni, no, kernel, stride, pad):\n",
    "        super().__init__()\n",
    "        self.depthwise = nn.Conv1d(ni, ni, kernel, stride, padding=pad, groups=ni)\n",
    "        self.pointwise = nn.Conv1d(ni, no, kernel_size=1)\n",
    "\n",
    "    def forward(self, x):\n",
    "        return self.pointwise(self.depthwise(x))\n",
    "\n",
    "\n",
    "class SepConv1d(nn.Module):\n",
    "    \"\"\"Implementes a 1-d convolution with 'batteries included'.\n",
    "\n",
    "    The module adds (optionally) activation function and dropout layers right after\n",
    "    a separable convolution layer.\n",
    "    \"\"\"\n",
    "\n",
    "    def __init__(self, ni, no, kernel, stride, pad, drop=None,\n",
    "                 activ=lambda: nn.ReLU(inplace=True)):\n",
    "\n",
    "        super().__init__()\n",
    "        assert drop is None or (0.0 < drop < 1.0)\n",
    "        layers = [_SepConv1d(ni, no, kernel, stride, pad)]\n",
    "        if activ:\n",
    "            layers.append(activ())\n",
    "        if drop is not None:\n",
    "            layers.append(nn.Dropout(drop))\n",
    "        self.layers = nn.Sequential(*layers)\n",
    "\n",
    "    def forward(self, x):\n",
    "        return self.layers(x)\n",
    "\n",
    "\n",
    "class Flatten(nn.Module):\n",
    "    \"\"\"Converts N-dimensional tensor into 'flat' one.\"\"\"\n",
    "\n",
    "    def __init__(self, keep_batch_dim=True):\n",
    "        super().__init__()\n",
    "        self.keep_batch_dim = keep_batch_dim\n",
    "\n",
    "    def forward(self, x):\n",
    "        if self.keep_batch_dim:\n",
    "            return x.view(x.size(0), -1)\n",
    "        return x.view(-1)\n",
    "\n",
    "\n",
    "class Classifier_dh(nn.Module):\n",
    "    def __init__(self, raw_ni, raw_sz, no, drop=0.05):\n",
    "        super().__init__()\n",
    "        self.conv1 = SepConv1d(raw_ni, 32, 8, 2, 3, drop=drop)\n",
    "        self.conv2 = SepConv1d(32, 64, 8, 4, 2, drop=drop)\n",
    "        self.conv3 = SepConv1d(64, 128, 8, 4, 2, drop=drop)\n",
    "        self.conv4 = SepConv1d(128, 256, 8, 4, 2)\n",
    "        self.flatten = Flatten()\n",
    "        self.fc1 = nn.Sequential(nn.Dropout(drop), nn.Linear(raw_sz*2, 64), nn.ReLU(inplace=True))\n",
    "        self.fc2 = nn.Sequential(nn.Dropout(drop), nn.Linear(64, 64), nn.ReLU(inplace=True))\n",
    "        self.out = nn.Sequential(\n",
    "            nn.Linear(64, 64), nn.ReLU(inplace=True), nn.Linear(64, no))\n",
    "\n",
    "    def forward(self, t_raw):\n",
    "#         print('input size', t_raw.size())\n",
    "        x = self.conv1(t_raw)\n",
    "#         print('conv1', x.size())\n",
    "        x = self.conv2(x)\n",
    "#         print('conv2', x.size())\n",
    "        x = self.conv3(x)\n",
    "#         print('conv3', x.size())\n",
    "        x = self.conv4(x)\n",
    "#         print('conv4', x.size())\n",
    "        x = self.flatten(x)\n",
    "#         print('flatten', x.size())\n",
    "        x = self.fc1(x)\n",
    "#         print('fc1', x.size())\n",
    "        x = self.fc2(x)\n",
    "#         print('fc2', x.size())\n",
    "        x = self.out(x)\n",
    "        return x"
   ]
  },
  {
   "cell_type": "code",
   "execution_count": 5,
   "metadata": {},
   "outputs": [],
   "source": [
    "# Program to find most frequent  \n",
    "# element in a list \n",
    "from collections import Counter\n",
    "def remove_values_from_list(the_list, val):\n",
    "    return [value for value in the_list if value != val]\n",
    "def most_frequent(List):\n",
    "    List = remove_values_from_list(the_list=List, val=6)\n",
    "    if List == []:\n",
    "        return 6\n",
    "    else:\n",
    "        occurence_count = Counter(List)\n",
    "        return occurence_count.most_common(1)[0][0]"
   ]
  },
  {
   "cell_type": "code",
   "execution_count": 6,
   "metadata": {},
   "outputs": [],
   "source": [
    "label_array_list = {}\n",
    "train_num = 21\n",
    "txt_to_label = {'talk':0, 'eat':1, 'read':2, 'drink':3, 'computer':4, 'write':5, 'other': 6}\n",
    "dirpath = \"C:\\\\Users\\\\zhjsc\\\\Desktop\\\\zongyuan\\\\sensor\\\\repos\\\\time_series_network\\\\sensor_data_v7\\\\\"\n",
    "# dirpath = '/media/rzeng/Linzh/donghao/sensorv5/video_sample/sensor_data_v7/'\n",
    "for j in range(1, train_num, 1):\n",
    "    frontpath = dirpath + \"Video\" + str(j) + os.sep + \"Video\" + str(j) + os.sep + \"front_angle.MOV_out.csv\"\n",
    "    front_csv = pd.read_csv(frontpath)\n",
    "    backpath = dirpath + \"Video\" + str(j) + os.sep + \"Video\" + str(j) + os.sep + \"back_angle.MOV_out.csv\"\n",
    "    back_csv = pd.read_csv(backpath)\n",
    "    len_slowfast = min(front_csv.shape[0], back_csv.shape[0])\n",
    "#     print(front_csv.shape, back_csv.shape)\n",
    "    label_array = []\n",
    "    for i in range(len_slowfast):\n",
    "        front_row = front_csv.iloc[i]\n",
    "        back_row = back_csv.iloc[i]\n",
    "        label = compute_label(input_front=front_row, input_back=back_row, convert_dict=txt_to_label)\n",
    "        label_array.append(label)\n",
    "    label_array = np.asarray(label_array)\n",
    "    label_array_list[j] = label_array"
   ]
  },
  {
   "cell_type": "code",
   "execution_count": 10,
   "metadata": {},
   "outputs": [],
   "source": [
    "# print(label_array_list)"
   ]
  },
  {
   "cell_type": "code",
   "execution_count": 11,
   "metadata": {},
   "outputs": [
    {
     "name": "stdout",
     "output_type": "stream",
     "text": [
      "j 1\n",
      "j 2\n",
      "j 3\n",
      "j 4\n",
      "j 5\n",
      "j 6\n",
      "j 7\n",
      "j 8\n",
      "j 9\n",
      "j 10\n",
      "j 11\n"
     ]
    }
   ],
   "source": [
    "def sensor_to_slowfast(sensor_index, sensor_data, label_data):\n",
    "#     print(sensor_data.shape, label_data.shape)\n",
    "    slowfast_index = int(sensor_index  / sensor_data.shape[0] * label_data.shape[0])\n",
    "    return slowfast_index\n",
    "window_sz = 128\n",
    "sample_sz = 128\n",
    "all_label_list = {}\n",
    "head_sensor_data_list = {}\n",
    "train_num = 8\n",
    "for j in range(1, 12, 1):\n",
    "    print('j', j)\n",
    "    head_sensor_name = dirpath + os.sep + \"Video\" + str(j) + os.sep + \"Video\" + str(j) + os.sep + \"Head.txt\"\n",
    "    head_sensor = load_sensor_data_without_h(fname=head_sensor_name)\n",
    "    head_sensor_data = sample_sensor_data(head_sensor)\n",
    "    sensor_length = head_sensor.shape[0]\n",
    "    all_label = np.zeros((head_sensor_data.shape[0], 1)) \n",
    "    cnt = 0\n",
    "    for k in range(0, sensor_length-window_sz-sample_sz, sample_sz):\n",
    "        start = sensor_to_slowfast(sensor_index=k, sensor_data = head_sensor, label_data=label_array_list[j])\n",
    "        end = sensor_to_slowfast(sensor_index=k+window_sz, sensor_data = head_sensor, label_data=label_array_list[j])\n",
    "        cur_label_array = label_array[start:end]\n",
    "        most_frequent_element = most_frequent(cur_label_array)\n",
    "#         if most_frequent_element == 6:\n",
    "# #             print('bingo')\n",
    "#         else:\n",
    "# #             print('no bingo')\n",
    "        all_label[cnt] = most_frequent_element\n",
    "        cnt = cnt + 1\n",
    "    all_label_list[j] = all_label\n",
    "    head_sensor_data_list[j] = head_sensor_data"
   ]
  },
  {
   "cell_type": "code",
   "execution_count": 12,
   "metadata": {},
   "outputs": [],
   "source": [
    "#actor 1 male:  lengths of video 1-7 are 3 minutes video 8-10 are 1 minute. \n",
    "#actor 2 male: video 11-14 are 3 minutes \n",
    "#actor 3 female: video 15-18\n",
    "#actor 4 male: video 19 is 3-minute\n",
    "#actor 5 female: video 20 is 3-minute\n",
    "# train_num_list = [1, 2, 3, 5, 6, 7, 8, 9, 10, 11, 12, 13, 14, 15, 16, 17, 18, 19, 20]\n",
    "train_num_list = [1, 2, 3, 5, 6, 7, 8, 10]\n",
    "val_num_list = [9]"
   ]
  },
  {
   "cell_type": "code",
   "execution_count": 13,
   "metadata": {},
   "outputs": [
    {
     "name": "stdout",
     "output_type": "stream",
     "text": [
      "(4068, 13, 128)\n",
      "(4068, 1)\n"
     ]
    }
   ],
   "source": [
    "head_sensor_data_combine = head_sensor_data_list[train_num_list[0]]\n",
    "all_label_combine = all_label_list[train_num_list[0]]\n",
    "for train_num in train_num_list:\n",
    "    head_sensor_data = head_sensor_data_list[train_num]\n",
    "    head_sensor_data_combine = np.concatenate((head_sensor_data_combine,head_sensor_data), axis=0)\n",
    "    all_label = all_label_list[train_num]\n",
    "    all_label_combine = np.concatenate((all_label_combine, all_label), axis=0)\n",
    "print(head_sensor_data_combine.shape)\n",
    "print(all_label_combine.shape)"
   ]
  },
  {
   "cell_type": "code",
   "execution_count": 21,
   "metadata": {},
   "outputs": [
    {
     "name": "stdout",
     "output_type": "stream",
     "text": [
      "(3014, 1)\n",
      "(3014, 13, 128)\n"
     ]
    }
   ],
   "source": [
    "cnt = 0\n",
    "all_label_combine_filtered = []\n",
    "remove_indices = []\n",
    "for i in range(len(all_label_combine)):\n",
    "    if all_label_combine[i] > 5.5 and all_label_combine[i] < 6.5:\n",
    "        remove_indices.append(i)\n",
    "all_label_combine_filtered = np.delete(all_label_combine, remove_indices, axis=0)\n",
    "print(all_label_combine_filtered.shape)\n",
    "head_sensor_data_combine_filtered = np.delete(head_sensor_data_combine, remove_indices, axis=0)\n",
    "print(head_sensor_data_combine_filtered.shape)"
   ]
  },
  {
   "cell_type": "code",
   "execution_count": 22,
   "metadata": {},
   "outputs": [
    {
     "name": "stdout",
     "output_type": "stream",
     "text": [
      "(674, 1)\n",
      "(674, 13, 128)\n"
     ]
    }
   ],
   "source": [
    "val_head_sensor_data = head_sensor_data_list[val_num_list[0]]\n",
    "val_label = all_label_list[val_num_list[0]]\n",
    "for val_num in val_num_list:\n",
    "    head_sensor_data = head_sensor_data_list[val_num]\n",
    "    val_head_sensor_data = np.concatenate((val_head_sensor_data, head_sensor_data), axis=0)\n",
    "    all_label = all_label_list[val_num]\n",
    "    val_label = np.concatenate((val_label, all_label), axis=0)\n",
    "remove_indices = []\n",
    "for i in range(len(val_label)):\n",
    "    if val_label[i] > 5.5 and val_label[i] < 6.5:\n",
    "        remove_indices.append(i)\n",
    "val_label_filtered = np.delete(val_label, remove_indices, axis=0)\n",
    "print(val_label_filtered.shape)\n",
    "val_head_sensor_data_filtered = np.delete(val_head_sensor_data, remove_indices, axis=0)\n",
    "print(val_head_sensor_data_filtered.shape)"
   ]
  },
  {
   "cell_type": "code",
   "execution_count": 24,
   "metadata": {},
   "outputs": [],
   "source": [
    "bs = 10\n",
    "sz = all_label.shape[0]\n",
    "trn_ds = TensorDataset(torch.tensor(head_sensor_data_combine_filtered).float(), torch.tensor(all_label_combine_filtered).long())\n",
    "trn_dl = DataLoader(trn_ds, batch_size=bs, shuffle=True, num_workers=0)"
   ]
  },
  {
   "cell_type": "code",
   "execution_count": 25,
   "metadata": {},
   "outputs": [],
   "source": [
    "val_label = np.asarray(val_label)\n",
    "val_ds = TensorDataset(torch.tensor(val_head_sensor_data_filtered).float(), torch.tensor(val_label_filtered).long())\n",
    "val_dl = DataLoader(val_ds, batch_size=bs, shuffle=True, num_workers=0)"
   ]
  },
  {
   "cell_type": "code",
   "execution_count": 35,
   "metadata": {},
   "outputs": [
    {
     "name": "stdout",
     "output_type": "stream",
     "text": [
      "[0. 1. 2. 3. 4. 5.]\n",
      "[0. 1. 2. 3. 4. 5.]\n",
      "Counter({0.0: 1389, 4.0: 631, 5.0: 631, 3.0: 288, 2.0: 56, 1.0: 19})\n"
     ]
    }
   ],
   "source": [
    "print(np.unique(val_label_filtered))\n",
    "print(np.unique(all_label_combine_filtered))\n",
    "xxx_list = []\n",
    "for xxx in all_label_combine_filtered:\n",
    "#     print(xxx)\n",
    "    xxx_list.append(xxx[0])\n",
    "print(Counter(xxx_list))"
   ]
  },
  {
   "cell_type": "code",
   "execution_count": 36,
   "metadata": {},
   "outputs": [
    {
     "name": "stdout",
     "output_type": "stream",
     "text": [
      "Start model training\n",
      "Epoch:   1. Loss: 4528.5415. Acc.: 45.99%\n",
      "Epoch 1 best model saved with accuracy: 45.99%\n",
      "Epoch:   2. Loss: 4067.6714. Acc.: 45.99%\n",
      "Epoch:   4. Loss: 4060.0972. Acc.: 45.99%\n",
      "Epoch:   8. Loss: 4028.3694. Acc.: 45.99%\n",
      "Epoch:  16. Loss: 3927.7590. Acc.: 45.99%\n",
      "Epoch:  32. Loss: 3741.4306. Acc.: 43.92%\n",
      "Epoch:  64. Loss: 3316.7623. Acc.: 41.54%\n",
      "Epoch: 128. Loss: 2363.4311. Acc.: 34.42%\n"
     ]
    }
   ],
   "source": [
    "lr = 0.0001\n",
    "n_epochs = 200\n",
    "iterations_per_epoch = len(trn_ds)\n",
    "num_classes = 6\n",
    "best_acc = 0\n",
    "patience, trials = 500, 0\n",
    "base = 1\n",
    "step = 2\n",
    "loss_history = []\n",
    "acc_history = []\n",
    "device = torch.device('cuda:0' if torch.cuda.is_available() else 'cpu')\n",
    "model = Classifier_dh(head_sensor_data.shape[1], head_sensor_data.shape[2], num_classes).to(device)\n",
    "criterion = nn.CrossEntropyLoss(reduction='sum')\n",
    "opt = optim.Adam(model.parameters(), lr=lr)\n",
    "print('Start model training')\n",
    "\n",
    "for epoch in range(1, n_epochs + 1):\n",
    "    model.train()\n",
    "    epoch_loss = 0\n",
    "    for i, batch in enumerate(trn_dl):\n",
    "        x_raw, y_batch = [t.to(device) for t in batch]\n",
    "        opt.zero_grad()\n",
    "        out = model(x_raw)\n",
    "        y_batch = tf.squeeze(y_batch)\n",
    "#         print(out.size(), y_batch.size())\n",
    "#         print('preds', preds, 'y_batch', y_batch)\n",
    "        loss = criterion(out, y_batch)\n",
    "        epoch_loss += loss.item()\n",
    "        loss.backward()\n",
    "        opt.step()\n",
    "\n",
    "    loss_history.append(epoch_loss)\n",
    "    model.eval()\n",
    "    correct, total = 0, 0\n",
    "    for batch in val_dl:\n",
    "        x_raw, y_batch = [t.to(device) for t in batch]\n",
    "        y_batch = tf.squeeze(y_batch)\n",
    "        out = model(x_raw)\n",
    "        preds = F.log_softmax(out, dim=1).argmax(dim=1)\n",
    "#         print('preds', preds, 'y_batch', y_batch)\n",
    "        if preds.size()[0] > 1:\n",
    "            total += y_batch.size(0)\n",
    "            correct += (preds == y_batch).sum().item()\n",
    "\n",
    "    acc = correct / total\n",
    "    acc_history.append(acc)\n",
    "    if epoch % base == 0:\n",
    "        print(f'Epoch: {epoch:3d}. Loss: {epoch_loss:.4f}. Acc.: {acc:2.2%}')\n",
    "        base *= step\n",
    "\n",
    "    if acc > best_acc:\n",
    "        trials = 0\n",
    "        best_acc = acc\n",
    "        torch.save(model.state_dict(), 'best.pth')\n",
    "        print(f'Epoch {epoch} best model saved with accuracy: {best_acc:2.2%}')\n",
    "    else:\n",
    "        trials += 1\n",
    "        if trials >= patience:\n",
    "            print(f'Early stopping on epoch {epoch}')\n",
    "            break"
   ]
  },
  {
   "cell_type": "code",
   "execution_count": 37,
   "metadata": {},
   "outputs": [
    {
     "data": {
      "text/plain": [
       "Classifier_dh(\n",
       "  (conv1): SepConv1d(\n",
       "    (layers): Sequential(\n",
       "      (0): _SepConv1d(\n",
       "        (depthwise): Conv1d(13, 13, kernel_size=(8,), stride=(2,), padding=(3,), groups=13)\n",
       "        (pointwise): Conv1d(13, 32, kernel_size=(1,), stride=(1,))\n",
       "      )\n",
       "      (1): ReLU(inplace=True)\n",
       "      (2): Dropout(p=0.05, inplace=False)\n",
       "    )\n",
       "  )\n",
       "  (conv2): SepConv1d(\n",
       "    (layers): Sequential(\n",
       "      (0): _SepConv1d(\n",
       "        (depthwise): Conv1d(32, 32, kernel_size=(8,), stride=(4,), padding=(2,), groups=32)\n",
       "        (pointwise): Conv1d(32, 64, kernel_size=(1,), stride=(1,))\n",
       "      )\n",
       "      (1): ReLU(inplace=True)\n",
       "      (2): Dropout(p=0.05, inplace=False)\n",
       "    )\n",
       "  )\n",
       "  (conv3): SepConv1d(\n",
       "    (layers): Sequential(\n",
       "      (0): _SepConv1d(\n",
       "        (depthwise): Conv1d(64, 64, kernel_size=(8,), stride=(4,), padding=(2,), groups=64)\n",
       "        (pointwise): Conv1d(64, 128, kernel_size=(1,), stride=(1,))\n",
       "      )\n",
       "      (1): ReLU(inplace=True)\n",
       "      (2): Dropout(p=0.05, inplace=False)\n",
       "    )\n",
       "  )\n",
       "  (conv4): SepConv1d(\n",
       "    (layers): Sequential(\n",
       "      (0): _SepConv1d(\n",
       "        (depthwise): Conv1d(128, 128, kernel_size=(8,), stride=(4,), padding=(2,), groups=128)\n",
       "        (pointwise): Conv1d(128, 256, kernel_size=(1,), stride=(1,))\n",
       "      )\n",
       "      (1): ReLU(inplace=True)\n",
       "    )\n",
       "  )\n",
       "  (flatten): Flatten()\n",
       "  (fc1): Sequential(\n",
       "    (0): Dropout(p=0.05, inplace=False)\n",
       "    (1): Linear(in_features=256, out_features=64, bias=True)\n",
       "    (2): ReLU(inplace=True)\n",
       "  )\n",
       "  (fc2): Sequential(\n",
       "    (0): Dropout(p=0.05, inplace=False)\n",
       "    (1): Linear(in_features=64, out_features=64, bias=True)\n",
       "    (2): ReLU(inplace=True)\n",
       "  )\n",
       "  (out): Sequential(\n",
       "    (0): Linear(in_features=64, out_features=64, bias=True)\n",
       "    (1): ReLU(inplace=True)\n",
       "    (2): Linear(in_features=64, out_features=6, bias=True)\n",
       "  )\n",
       ")"
      ]
     },
     "execution_count": 37,
     "metadata": {},
     "output_type": "execute_result"
    }
   ],
   "source": [
    "model.load_state_dict(torch.load('best.pth'))\n",
    "model.eval()"
   ]
  },
  {
   "cell_type": "code",
   "execution_count": 38,
   "metadata": {},
   "outputs": [
    {
     "data": {
      "text/plain": [
       "array([[310,   0,   0,   0,   0,   0],\n",
       "       [  6,   0,   0,   0,   0,   0],\n",
       "       [ 12,   0,   0,   0,   0,   0],\n",
       "       [ 62,   0,   0,   0,   0,   0],\n",
       "       [142,   0,   0,   0,   0,   0],\n",
       "       [142,   0,   0,   0,   0,   0]], dtype=int64)"
      ]
     },
     "execution_count": 38,
     "metadata": {},
     "output_type": "execute_result"
    }
   ],
   "source": [
    "# i = 1\n",
    "preds_list = []\n",
    "labels_list = []\n",
    "for batch in val_dl:\n",
    "    x_raw, y_batch = [t.to(device) for t in batch]\n",
    "    y_batch = tf.squeeze(y_batch)\n",
    "    out = model(x_raw)\n",
    "    preds = F.log_softmax(out, dim=1).argmax(dim=1)\n",
    "    preds_list = np.concatenate((preds_list, preds.cpu().numpy()), axis=0)\n",
    "    labels_list = np.concatenate((labels_list, y_batch.cpu().numpy()), axis=0)\n",
    "from sklearn.metrics import confusion_matrix\n",
    "confusion_matrix(y_true=labels_list, y_pred=preds_list)"
   ]
  },
  {
   "cell_type": "code",
   "execution_count": null,
   "metadata": {},
   "outputs": [],
   "source": []
  }
 ],
 "metadata": {
  "kernelspec": {
   "display_name": "Python 3",
   "language": "python",
   "name": "python3"
  },
  "language_info": {
   "codemirror_mode": {
    "name": "ipython",
    "version": 3
   },
   "file_extension": ".py",
   "mimetype": "text/x-python",
   "name": "python",
   "nbconvert_exporter": "python",
   "pygments_lexer": "ipython3",
   "version": "3.6.10"
  }
 },
 "nbformat": 4,
 "nbformat_minor": 4
}
